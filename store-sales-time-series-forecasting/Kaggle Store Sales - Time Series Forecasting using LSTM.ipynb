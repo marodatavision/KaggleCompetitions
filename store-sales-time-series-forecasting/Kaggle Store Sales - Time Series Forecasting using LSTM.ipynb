{
 "cells": [
  {
   "cell_type": "markdown",
   "id": "d3bf917b",
   "metadata": {},
   "source": [
    "# Get an overview of the data"
   ]
  },
  {
   "cell_type": "code",
   "execution_count": 1,
   "id": "4df79d4e",
   "metadata": {},
   "outputs": [],
   "source": [
    "# all imports\n",
    "import numpy as np\n",
    "import pandas as pd\n",
    "import seaborn as sns\n",
    "import plotly.express as px\n",
    "import matplotlib.pyplot as plt\n",
    "import tensorflow as tf\n",
    "\n",
    "%matplotlib inline\n",
    "sns.set_style(\"whitegrid\")"
   ]
  },
  {
   "cell_type": "code",
   "execution_count": 2,
   "id": "6e6ca1a6",
   "metadata": {},
   "outputs": [],
   "source": [
    "# load the main dataset\n",
    "train_df = pd.read_csv('train.csv')\n",
    "test_df = pd.read_csv('test.csv')\n",
    "\n",
    "# load the meta data\n",
    "holidays_events_df = pd.read_csv('holidays_events.csv')\n",
    "oil_df = pd.read_csv('oil.csv')\n",
    "stores_df = pd.read_csv('stores.csv')\n",
    "transactions_df = pd.read_csv('transactions.csv')"
   ]
  },
  {
   "cell_type": "markdown",
   "id": "221d6cee",
   "metadata": {},
   "source": [
    "## Peak at the data"
   ]
  },
  {
   "cell_type": "markdown",
   "id": "bcc0a4b2",
   "metadata": {},
   "source": [
    "Display the first few rows of the dataset to understand its structure and column names. Let's begin with the main dataset consisting of __train_df__ and __test_df__."
   ]
  },
  {
   "cell_type": "markdown",
   "id": "36f79c4b",
   "metadata": {},
   "source": [
    "### Train and Test data"
   ]
  },
  {
   "cell_type": "code",
   "execution_count": 6,
   "id": "ed942a51",
   "metadata": {},
   "outputs": [
    {
     "data": {
      "text/plain": [
       "(3000888, 6)"
      ]
     },
     "execution_count": 6,
     "metadata": {},
     "output_type": "execute_result"
    }
   ],
   "source": [
    "train_df.shape"
   ]
  },
  {
   "cell_type": "code",
   "execution_count": 3,
   "id": "1a3fa09b",
   "metadata": {},
   "outputs": [
    {
     "data": {
      "text/html": [
       "<div>\n",
       "<style scoped>\n",
       "    .dataframe tbody tr th:only-of-type {\n",
       "        vertical-align: middle;\n",
       "    }\n",
       "\n",
       "    .dataframe tbody tr th {\n",
       "        vertical-align: top;\n",
       "    }\n",
       "\n",
       "    .dataframe thead th {\n",
       "        text-align: right;\n",
       "    }\n",
       "</style>\n",
       "<table border=\"1\" class=\"dataframe\">\n",
       "  <thead>\n",
       "    <tr style=\"text-align: right;\">\n",
       "      <th></th>\n",
       "      <th>id</th>\n",
       "      <th>date</th>\n",
       "      <th>store_nbr</th>\n",
       "      <th>family</th>\n",
       "      <th>sales</th>\n",
       "      <th>onpromotion</th>\n",
       "    </tr>\n",
       "  </thead>\n",
       "  <tbody>\n",
       "    <tr>\n",
       "      <th>0</th>\n",
       "      <td>0</td>\n",
       "      <td>2013-01-01</td>\n",
       "      <td>1</td>\n",
       "      <td>AUTOMOTIVE</td>\n",
       "      <td>0.0</td>\n",
       "      <td>0</td>\n",
       "    </tr>\n",
       "    <tr>\n",
       "      <th>1</th>\n",
       "      <td>1</td>\n",
       "      <td>2013-01-01</td>\n",
       "      <td>1</td>\n",
       "      <td>BABY CARE</td>\n",
       "      <td>0.0</td>\n",
       "      <td>0</td>\n",
       "    </tr>\n",
       "    <tr>\n",
       "      <th>2</th>\n",
       "      <td>2</td>\n",
       "      <td>2013-01-01</td>\n",
       "      <td>1</td>\n",
       "      <td>BEAUTY</td>\n",
       "      <td>0.0</td>\n",
       "      <td>0</td>\n",
       "    </tr>\n",
       "    <tr>\n",
       "      <th>3</th>\n",
       "      <td>3</td>\n",
       "      <td>2013-01-01</td>\n",
       "      <td>1</td>\n",
       "      <td>BEVERAGES</td>\n",
       "      <td>0.0</td>\n",
       "      <td>0</td>\n",
       "    </tr>\n",
       "    <tr>\n",
       "      <th>4</th>\n",
       "      <td>4</td>\n",
       "      <td>2013-01-01</td>\n",
       "      <td>1</td>\n",
       "      <td>BOOKS</td>\n",
       "      <td>0.0</td>\n",
       "      <td>0</td>\n",
       "    </tr>\n",
       "  </tbody>\n",
       "</table>\n",
       "</div>"
      ],
      "text/plain": [
       "   id        date  store_nbr      family  sales  onpromotion\n",
       "0   0  2013-01-01          1  AUTOMOTIVE    0.0            0\n",
       "1   1  2013-01-01          1   BABY CARE    0.0            0\n",
       "2   2  2013-01-01          1      BEAUTY    0.0            0\n",
       "3   3  2013-01-01          1   BEVERAGES    0.0            0\n",
       "4   4  2013-01-01          1       BOOKS    0.0            0"
      ]
     },
     "execution_count": 3,
     "metadata": {},
     "output_type": "execute_result"
    }
   ],
   "source": [
    "train_df.head()"
   ]
  },
  {
   "cell_type": "code",
   "execution_count": 7,
   "id": "d460c957",
   "metadata": {},
   "outputs": [
    {
     "data": {
      "text/plain": [
       "(28512, 5)"
      ]
     },
     "execution_count": 7,
     "metadata": {},
     "output_type": "execute_result"
    }
   ],
   "source": [
    "test_df.shape"
   ]
  },
  {
   "cell_type": "code",
   "execution_count": 4,
   "id": "8d2cfb41",
   "metadata": {},
   "outputs": [
    {
     "data": {
      "text/html": [
       "<div>\n",
       "<style scoped>\n",
       "    .dataframe tbody tr th:only-of-type {\n",
       "        vertical-align: middle;\n",
       "    }\n",
       "\n",
       "    .dataframe tbody tr th {\n",
       "        vertical-align: top;\n",
       "    }\n",
       "\n",
       "    .dataframe thead th {\n",
       "        text-align: right;\n",
       "    }\n",
       "</style>\n",
       "<table border=\"1\" class=\"dataframe\">\n",
       "  <thead>\n",
       "    <tr style=\"text-align: right;\">\n",
       "      <th></th>\n",
       "      <th>id</th>\n",
       "      <th>date</th>\n",
       "      <th>store_nbr</th>\n",
       "      <th>family</th>\n",
       "      <th>onpromotion</th>\n",
       "    </tr>\n",
       "  </thead>\n",
       "  <tbody>\n",
       "    <tr>\n",
       "      <th>0</th>\n",
       "      <td>3000888</td>\n",
       "      <td>2017-08-16</td>\n",
       "      <td>1</td>\n",
       "      <td>AUTOMOTIVE</td>\n",
       "      <td>0</td>\n",
       "    </tr>\n",
       "    <tr>\n",
       "      <th>1</th>\n",
       "      <td>3000889</td>\n",
       "      <td>2017-08-16</td>\n",
       "      <td>1</td>\n",
       "      <td>BABY CARE</td>\n",
       "      <td>0</td>\n",
       "    </tr>\n",
       "    <tr>\n",
       "      <th>2</th>\n",
       "      <td>3000890</td>\n",
       "      <td>2017-08-16</td>\n",
       "      <td>1</td>\n",
       "      <td>BEAUTY</td>\n",
       "      <td>2</td>\n",
       "    </tr>\n",
       "    <tr>\n",
       "      <th>3</th>\n",
       "      <td>3000891</td>\n",
       "      <td>2017-08-16</td>\n",
       "      <td>1</td>\n",
       "      <td>BEVERAGES</td>\n",
       "      <td>20</td>\n",
       "    </tr>\n",
       "    <tr>\n",
       "      <th>4</th>\n",
       "      <td>3000892</td>\n",
       "      <td>2017-08-16</td>\n",
       "      <td>1</td>\n",
       "      <td>BOOKS</td>\n",
       "      <td>0</td>\n",
       "    </tr>\n",
       "  </tbody>\n",
       "</table>\n",
       "</div>"
      ],
      "text/plain": [
       "        id        date  store_nbr      family  onpromotion\n",
       "0  3000888  2017-08-16          1  AUTOMOTIVE            0\n",
       "1  3000889  2017-08-16          1   BABY CARE            0\n",
       "2  3000890  2017-08-16          1      BEAUTY            2\n",
       "3  3000891  2017-08-16          1   BEVERAGES           20\n",
       "4  3000892  2017-08-16          1       BOOKS            0"
      ]
     },
     "execution_count": 4,
     "metadata": {},
     "output_type": "execute_result"
    }
   ],
   "source": [
    "test_df.head()"
   ]
  },
  {
   "cell_type": "markdown",
   "id": "f3791349",
   "metadata": {},
   "source": [
    "Let's add the description of the data from the kaggle page to see the column's meaning:\n",
    "* __store_nbr__: identifies the store at which the products are sold\n",
    "* __family__: identifies the type of product sold\n",
    "* __onpromotion__: gives the total number of items in a product family that were being promoted at a store at a given date\n",
    "* __sales__: gives the total sales for a product family at a particular store at a given date. Fractional values are possible since products can be sold in fractional units (1.5 kg of cheese, for instance, as opposed to 1 bag of chips)"
   ]
  },
  {
   "cell_type": "markdown",
   "id": "ed996bc1",
   "metadata": {},
   "source": [
    "So we can see that the target column of __sales__ is missing in the test set. That means we will take only the __train_df__ for further analysis. But we have to investigate the categorical __family__ column in both sets before to make sure, that we are not missing any categorical value (important for the __LabelEncoder__)."
   ]
  },
  {
   "cell_type": "code",
   "execution_count": 11,
   "id": "01380924",
   "metadata": {},
   "outputs": [
    {
     "data": {
      "text/plain": [
       "AUTOMOTIVE                    91800\n",
       "HOME APPLIANCES               91800\n",
       "SCHOOL AND OFFICE SUPPLIES    91800\n",
       "PRODUCE                       91800\n",
       "PREPARED FOODS                91800\n",
       "POULTRY                       91800\n",
       "PLAYERS AND ELECTRONICS       91800\n",
       "PET SUPPLIES                  91800\n",
       "PERSONAL CARE                 91800\n",
       "MEATS                         91800\n",
       "MAGAZINES                     91800\n",
       "LIQUOR,WINE,BEER              91800\n",
       "LINGERIE                      91800\n",
       "LAWN AND GARDEN               91800\n",
       "LADIESWEAR                    91800\n",
       "HOME CARE                     91800\n",
       "HOME AND KITCHEN II           91800\n",
       "BABY CARE                     91800\n",
       "HOME AND KITCHEN I            91800\n",
       "HARDWARE                      91800\n",
       "GROCERY II                    91800\n",
       "GROCERY I                     91800\n",
       "FROZEN FOODS                  91800\n",
       "EGGS                          91800\n",
       "DELI                          91800\n",
       "DAIRY                         91800\n",
       "CLEANING                      91800\n",
       "CELEBRATION                   91800\n",
       "BREAD/BAKERY                  91800\n",
       "BOOKS                         91800\n",
       "BEVERAGES                     91800\n",
       "BEAUTY                        91800\n",
       "SEAFOOD                       91800\n",
       "Name: family, dtype: int64"
      ]
     },
     "execution_count": 11,
     "metadata": {},
     "output_type": "execute_result"
    }
   ],
   "source": [
    "# concat both sets together\n",
    "dataset_df = pd.concat([train_df, test_df], axis=0)\n",
    "\n",
    "# analyse the cardinality of the family column in both\n",
    "dataset_df.family.value_counts()"
   ]
  },
  {
   "cell_type": "code",
   "execution_count": 18,
   "id": "fba2eeee",
   "metadata": {},
   "outputs": [],
   "source": [
    "all_cat_values = set(dataset_df.family.unique().tolist())"
   ]
  },
  {
   "cell_type": "markdown",
   "id": "784bb286",
   "metadata": {},
   "source": [
    "Let's check if all the values are existing in the train set."
   ]
  },
  {
   "cell_type": "code",
   "execution_count": 8,
   "id": "94fd055f",
   "metadata": {},
   "outputs": [
    {
     "data": {
      "text/plain": [
       "AUTOMOTIVE                    90936\n",
       "HOME APPLIANCES               90936\n",
       "SCHOOL AND OFFICE SUPPLIES    90936\n",
       "PRODUCE                       90936\n",
       "PREPARED FOODS                90936\n",
       "POULTRY                       90936\n",
       "PLAYERS AND ELECTRONICS       90936\n",
       "PET SUPPLIES                  90936\n",
       "PERSONAL CARE                 90936\n",
       "MEATS                         90936\n",
       "MAGAZINES                     90936\n",
       "LIQUOR,WINE,BEER              90936\n",
       "LINGERIE                      90936\n",
       "LAWN AND GARDEN               90936\n",
       "LADIESWEAR                    90936\n",
       "HOME CARE                     90936\n",
       "HOME AND KITCHEN II           90936\n",
       "BABY CARE                     90936\n",
       "HOME AND KITCHEN I            90936\n",
       "HARDWARE                      90936\n",
       "GROCERY II                    90936\n",
       "GROCERY I                     90936\n",
       "FROZEN FOODS                  90936\n",
       "EGGS                          90936\n",
       "DELI                          90936\n",
       "DAIRY                         90936\n",
       "CLEANING                      90936\n",
       "CELEBRATION                   90936\n",
       "BREAD/BAKERY                  90936\n",
       "BOOKS                         90936\n",
       "BEVERAGES                     90936\n",
       "BEAUTY                        90936\n",
       "SEAFOOD                       90936\n",
       "Name: family, dtype: int64"
      ]
     },
     "execution_count": 8,
     "metadata": {},
     "output_type": "execute_result"
    }
   ],
   "source": [
    "# analyse the cardinality of the family column in train_df\n",
    "train_df.family.value_counts()"
   ]
  },
  {
   "cell_type": "code",
   "execution_count": 17,
   "id": "b9b5e05a",
   "metadata": {},
   "outputs": [],
   "source": [
    "train_cat_values = set(train_df.family.unique().tolist())"
   ]
  },
  {
   "cell_type": "code",
   "execution_count": 19,
   "id": "396c3eb3",
   "metadata": {},
   "outputs": [],
   "source": [
    "# look if one set does not contain a value from the other\n",
    "added = list(sorted(train_cat_values - all_cat_values))\n",
    "missing = list(sorted(all_cat_values - train_cat_values))\n",
    "if added:\n",
    "    print(f\"{col}: added to the joined dataset: {added}\")\n",
    "if missing:\n",
    "    print(f\"{col}: missing from the joined dataset: {missing}\")"
   ]
  },
  {
   "cell_type": "markdown",
   "id": "ea4284ef",
   "metadata": {},
   "source": [
    "We see no output from the print statements, so we have exact the same unique values in __train_df__ as in __test_df__. So we are not missing any values for a LabelEncoder. We can also see that we always have the same value counts of the unique values."
   ]
  },
  {
   "cell_type": "markdown",
   "id": "e7281c30",
   "metadata": {},
   "source": [
    "### Meta data"
   ]
  },
  {
   "cell_type": "code",
   "execution_count": 27,
   "id": "526198e2",
   "metadata": {},
   "outputs": [
    {
     "name": "stdout",
     "output_type": "stream",
     "text": [
      "holidays_events_df\n",
      "shape: (350, 6)\n",
      "columns: ['date', 'type', 'locale', 'locale_name', 'description', 'transferred']\n",
      "\n",
      "oil_df\n",
      "shape: (1218, 2)\n",
      "columns: ['date', 'dcoilwtico']\n",
      "\n",
      "stores_df\n",
      "shape: (54, 5)\n",
      "columns: ['store_nbr', 'city', 'state', 'type', 'cluster']\n",
      "\n",
      "transactions_df\n",
      "shape: (83488, 3)\n",
      "columns: ['date', 'store_nbr', 'transactions']\n",
      "\n"
     ]
    }
   ],
   "source": [
    "# Overview of shapes and column names\n",
    "meta_dfs = [\n",
    "    'holidays_events_df', \n",
    "    'oil_df',\n",
    "    'stores_df',\n",
    "    'transactions_df'\n",
    "]\n",
    "\n",
    "for meta in meta_dfs:\n",
    "    print(meta)\n",
    "    print(f\"shape: {locals()[meta].shape}\")\n",
    "    print(f\"columns: {locals()[meta].columns.tolist()}\\n\") "
   ]
  },
  {
   "cell_type": "code",
   "execution_count": null,
   "id": "185366da",
   "metadata": {},
   "outputs": [],
   "source": []
  },
  {
   "cell_type": "markdown",
   "id": "3c4f4a28",
   "metadata": {},
   "source": [
    "## Data summary"
   ]
  },
  {
   "cell_type": "markdown",
   "id": "69ff580c",
   "metadata": {},
   "source": [
    "Basic statistics like mean, median, standard deviation, and quartiles for numeric columns."
   ]
  },
  {
   "cell_type": "code",
   "execution_count": null,
   "id": "d59e5739",
   "metadata": {},
   "outputs": [],
   "source": []
  },
  {
   "cell_type": "markdown",
   "id": "bc914291",
   "metadata": {},
   "source": [
    "# Exploratory Data Analysis"
   ]
  },
  {
   "cell_type": "markdown",
   "id": "c1147014",
   "metadata": {},
   "source": [
    "## Time plotting of train data"
   ]
  },
  {
   "cell_type": "markdown",
   "id": "d74de000",
   "metadata": {},
   "source": [
    "Time plot of store sales over the entire duration of the dataset."
   ]
  },
  {
   "cell_type": "code",
   "execution_count": null,
   "id": "1fc4c440",
   "metadata": {},
   "outputs": [],
   "source": []
  },
  {
   "cell_type": "markdown",
   "id": "35637494",
   "metadata": {},
   "source": [
    "## Meta data plotting"
   ]
  },
  {
   "cell_type": "code",
   "execution_count": null,
   "id": "77b1cd6b",
   "metadata": {},
   "outputs": [],
   "source": []
  },
  {
   "cell_type": "markdown",
   "id": "8bbf0c50",
   "metadata": {},
   "source": [
    "# Data Preprocessing"
   ]
  },
  {
   "cell_type": "markdown",
   "id": "f070319d",
   "metadata": {},
   "source": [
    "## Date formatting"
   ]
  },
  {
   "cell_type": "markdown",
   "id": "6af0831c",
   "metadata": {},
   "source": [
    "Ensuring that the date column is in a proper datetime format, as this is crucial for time-based analysis."
   ]
  },
  {
   "cell_type": "code",
   "execution_count": null,
   "id": "360273ca",
   "metadata": {},
   "outputs": [],
   "source": []
  },
  {
   "cell_type": "markdown",
   "id": "71f41e8a",
   "metadata": {},
   "source": [
    "## Handling missing values"
   ]
  },
  {
   "cell_type": "markdown",
   "id": "41300291",
   "metadata": {},
   "source": [
    "Identification and handling of missing values, as they can impact forecasting accuracy (interpolation and forward/backward filling)"
   ]
  },
  {
   "cell_type": "code",
   "execution_count": null,
   "id": "87647e07",
   "metadata": {},
   "outputs": [],
   "source": []
  },
  {
   "cell_type": "markdown",
   "id": "80453fbf",
   "metadata": {},
   "source": [
    "## Outlier detection"
   ]
  },
  {
   "cell_type": "markdown",
   "id": "21fb07b3",
   "metadata": {},
   "source": [
    "Detection and dealing with outliers that can adversely affect the model's performance."
   ]
  },
  {
   "cell_type": "code",
   "execution_count": null,
   "id": "3a381e1f",
   "metadata": {},
   "outputs": [],
   "source": []
  },
  {
   "cell_type": "markdown",
   "id": "49b0cd27",
   "metadata": {},
   "source": [
    "## Feature engineering"
   ]
  },
  {
   "cell_type": "markdown",
   "id": "351d3202",
   "metadata": {},
   "source": [
    "Building of additional features like Year, day and month as separate column for the date. Also converting meta data in, e.g. binary indicators, could improve the performance of the model."
   ]
  },
  {
   "cell_type": "code",
   "execution_count": null,
   "id": "0c8f31e1",
   "metadata": {},
   "outputs": [],
   "source": []
  },
  {
   "cell_type": "markdown",
   "id": "512fcc4c",
   "metadata": {},
   "source": [
    "# Exploring Seasonality and Trends"
   ]
  },
  {
   "cell_type": "markdown",
   "id": "b6227476",
   "metadata": {},
   "source": [
    "## Decomposition"
   ]
  },
  {
   "cell_type": "markdown",
   "id": "b62d32df",
   "metadata": {},
   "source": [
    "Time series decomposition to separate the series into its trend, seasonal, and residual components."
   ]
  },
  {
   "cell_type": "code",
   "execution_count": null,
   "id": "e7ed5857",
   "metadata": {},
   "outputs": [],
   "source": []
  },
  {
   "cell_type": "markdown",
   "id": "650f8a01",
   "metadata": {},
   "source": [
    "## Seasonal subseries plots"
   ]
  },
  {
   "cell_type": "markdown",
   "id": "ea539cfb",
   "metadata": {},
   "source": [
    "Visualization of the seasonal patterns (subseries plots for different seasons or months)."
   ]
  },
  {
   "cell_type": "code",
   "execution_count": null,
   "id": "25894bed",
   "metadata": {},
   "outputs": [],
   "source": []
  },
  {
   "cell_type": "markdown",
   "id": "a2fefd18",
   "metadata": {},
   "source": [
    "# Correlation Analysis"
   ]
  },
  {
   "cell_type": "markdown",
   "id": "ee571df4",
   "metadata": {},
   "source": [
    "Calculation and plotting of the correlation matrix between store sales, oil price, and other relevant features."
   ]
  },
  {
   "cell_type": "code",
   "execution_count": null,
   "id": "748c3cb5",
   "metadata": {},
   "outputs": [],
   "source": []
  },
  {
   "cell_type": "markdown",
   "id": "f62fd428",
   "metadata": {},
   "source": [
    "# Feature Selection"
   ]
  },
  {
   "cell_type": "markdown",
   "id": "bdbb366d",
   "metadata": {},
   "source": [
    "Decision of factors to include in the forecasting model based on correlation analysis, seasonality and trends."
   ]
  },
  {
   "cell_type": "code",
   "execution_count": null,
   "id": "d90ef896",
   "metadata": {},
   "outputs": [],
   "source": []
  },
  {
   "cell_type": "markdown",
   "id": "6a25959c",
   "metadata": {},
   "source": [
    "# Model Architecture"
   ]
  },
  {
   "cell_type": "markdown",
   "id": "0c34ee29",
   "metadata": {},
   "source": [
    "Baseline model with simple architecture (will be extended in the next sections)."
   ]
  },
  {
   "cell_type": "code",
   "execution_count": null,
   "id": "79779517",
   "metadata": {},
   "outputs": [],
   "source": []
  },
  {
   "cell_type": "markdown",
   "id": "adc2df28",
   "metadata": {},
   "source": [
    "# Training and Evaluation"
   ]
  },
  {
   "cell_type": "code",
   "execution_count": null,
   "id": "cb29993f",
   "metadata": {},
   "outputs": [],
   "source": []
  },
  {
   "cell_type": "markdown",
   "id": "373b78d8",
   "metadata": {},
   "source": [
    "# Hyperparameter Optimization and Model Improvement"
   ]
  },
  {
   "cell_type": "markdown",
   "id": "5dfb2e8b",
   "metadata": {},
   "source": [
    "## GridSearch of Hyperparameters"
   ]
  },
  {
   "cell_type": "markdown",
   "id": "5c8d261b",
   "metadata": {},
   "source": [
    "Baseline"
   ]
  },
  {
   "cell_type": "code",
   "execution_count": null,
   "id": "bc46e19a",
   "metadata": {},
   "outputs": [],
   "source": []
  },
  {
   "cell_type": "markdown",
   "id": "71554274",
   "metadata": {},
   "source": [
    "## Extention of Baseline architecture"
   ]
  },
  {
   "cell_type": "markdown",
   "id": "5004e568",
   "metadata": {},
   "source": [
    "More complex version of the tuned baseline model to evaluate if the complex model architecture increases performance."
   ]
  },
  {
   "cell_type": "code",
   "execution_count": null,
   "id": "6966bb13",
   "metadata": {},
   "outputs": [],
   "source": []
  },
  {
   "cell_type": "markdown",
   "id": "370ae924",
   "metadata": {},
   "source": [
    "# Submission"
   ]
  },
  {
   "cell_type": "code",
   "execution_count": null,
   "id": "0e8f72cf",
   "metadata": {},
   "outputs": [],
   "source": []
  }
 ],
 "metadata": {
  "kernelspec": {
   "display_name": "Python 3 (ipykernel)",
   "language": "python",
   "name": "python3"
  },
  "language_info": {
   "codemirror_mode": {
    "name": "ipython",
    "version": 3
   },
   "file_extension": ".py",
   "mimetype": "text/x-python",
   "name": "python",
   "nbconvert_exporter": "python",
   "pygments_lexer": "ipython3",
   "version": "3.8.10"
  }
 },
 "nbformat": 4,
 "nbformat_minor": 5
}
